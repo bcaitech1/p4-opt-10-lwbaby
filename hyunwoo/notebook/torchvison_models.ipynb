{
 "cells": [
  {
   "cell_type": "code",
   "execution_count": 1,
   "id": "056c399b-09e8-4074-8d11-4935dc3ef042",
   "metadata": {},
   "outputs": [],
   "source": [
    "import sys\n",
    "sys.path.append('../code')\n",
    "\n",
    "import torchvision.models as models\n",
    "import torch\n",
    "import pandas as pd\n",
    "\n",
    "from src.utils.macs import calc_macs"
   ]
  },
  {
   "cell_type": "markdown",
   "id": "2f725dc5-2c5a-40c3-9a03-09e209748dd5",
   "metadata": {},
   "source": [
    "# torchvision의 주요 모델"
   ]
  },
  {
   "cell_type": "code",
   "execution_count": 2,
   "id": "3cf54e24-215f-40b2-9cef-1b3d34e94296",
   "metadata": {},
   "outputs": [],
   "source": [
    "MODEL_MAP_FUNCTION = {\n",
    "    'alexnet' : models.alexnet,\n",
    "    'vgg11' : models.vgg11,\n",
    "    'vgg11_bn' : models.vgg11_bn,\n",
    "    'resnet18' : models.resnet18,\n",
    "    'squeezenet1_0' : models.squeezenet1_0,\n",
    "    'squeezenet1_1' : models.squeezenet1_1,\n",
    "    'densenet121' : models.densenet121,\n",
    "    # 'inception_v3' : models.inception_v3,\n",
    "    # 'googlenet' : models.googlenet,\n",
    "    'shufflenet_v2_x0_5' : models.shufflenet_v2_x0_5,\n",
    "    'mobilenet_v2' : models.mobilenet_v2,\n",
    "    'mobilenet_v3_small' : models.mobilenet_v3_small,\n",
    "    'resnext50_32x4d' : models.resnext50_32x4d,\n",
    "    'wide_resnet' : models.wide_resnet50_2,\n",
    "    'mnasnet' : models.mnasnet0_5,\n",
    "}"
   ]
  },
  {
   "cell_type": "markdown",
   "id": "5d455b84-7e60-4733-8ec8-8de0bc34de73",
   "metadata": {},
   "source": [
    "# torchvision 모델의 param 수, MACs"
   ]
  },
  {
   "cell_type": "code",
   "execution_count": 3,
   "id": "27dc283d-e134-4126-bb78-7f7e10be1d1d",
   "metadata": {},
   "outputs": [
    {
     "name": "stdout",
     "output_type": "stream",
     "text": [
      "alexnet\n",
      "vgg11\n",
      "vgg11_bn\n",
      "resnet18\n",
      "squeezenet1_0\n",
      "squeezenet1_1\n",
      "densenet121\n",
      "shufflenet_v2_x0_5\n",
      "mobilenet_v2\n",
      "mobilenet_v3_small\n",
      "resnext50_32x4d\n",
      "wide_resnet\n",
      "mnasnet\n",
      "            model_name  param_num         MACs\n",
      "0              alexnet      20688       Not_32\n",
      "1                vgg11      23888  276684264.0\n",
      "2             vgg11_bn      29392  276987368.0\n",
      "3             resnet18      16400   37642728.0\n",
      "4        squeezenet1_0       7952    9740464.0\n",
      "5        squeezenet1_1       7888    3563472.0\n",
      "6          densenet121      95888   59514344.0\n",
      "7   shufflenet_v2_x0_5      13928    1878088.0\n",
      "8         mobilenet_v2      53168    7665704.0\n",
      "9   mobilenet_v3_small      27992    3246704.0\n",
      "10     resnext50_32x4d     104336   88949736.0\n",
      "11         wide_resnet     104336  235226088.0\n",
      "12             mnasnet      32936    3511752.0\n"
     ]
    }
   ],
   "source": [
    "model_table = {'model_name': [], 'param_num': [], 'MACs': []}\n",
    "\n",
    "for model_name, model_func in MODEL_MAP_FUNCTION.items():\n",
    "    print(model_name)\n",
    "    \n",
    "    model = model_func()\n",
    "    param_num = 0\n",
    "    for params in model.parameters(): param_num += len(params)\n",
    "    try:\n",
    "        macs = calc_macs(model, (3, 32, 32))\n",
    "    except RuntimeError:\n",
    "        macs = 'Not_32'\n",
    "    model_table['model_name'].append(model_name)\n",
    "    model_table['param_num'].append(param_num)\n",
    "    model_table['MACs'].append(macs)\n",
    "\n",
    "model_table = pd.DataFrame(model_table, \n",
    "                           columns=['model_name', 'param_num', 'MACs'])\n",
    "\n",
    "print(model_table)"
   ]
  },
  {
   "cell_type": "markdown",
   "id": "b6cfb32e-eb04-4f3c-aded-ae7a6356be1d",
   "metadata": {},
   "source": [
    "# 주요 모델들 dense_layer 축소"
   ]
  },
  {
   "cell_type": "code",
   "execution_count": 4,
   "id": "ffe28662-685b-42d6-82ca-fe30b6583630",
   "metadata": {},
   "outputs": [],
   "source": [
    "model_table = {'model_name': [], 'param_num': [], 'MACs': []}\n",
    "\n",
    "def append_model_table(model, model_name):\n",
    "    param_num = 0\n",
    "    for params in model.parameters(): param_num += len(params)\n",
    "    macs = calc_macs(model, (3, 32, 32))\n",
    "    print(model_name, param_num, macs)\n",
    "    model_table['model_name'].append(model_name)\n",
    "    model_table['param_num'].append(param_num)\n",
    "    model_table['MACs'].append(macs)\n",
    "\n",
    "def copy_weight(model, pretrained_model):\n",
    "    params = list(zip(model.parameters(), pretrained_model.parameters()))[:-2]\n",
    "\n",
    "    with torch.no_grad():\n",
    "        for param, pretrained_param in params:\n",
    "            param.data = pretrained_param.data.clone().detach()\n"
   ]
  },
  {
   "cell_type": "code",
   "execution_count": 5,
   "id": "c2a2fe5e-c023-455d-bcf7-66623291a1b4",
   "metadata": {},
   "outputs": [
    {
     "name": "stdout",
     "output_type": "stream",
     "text": [
      "shufflenet_v2_x0_5 11946 862313.0\n"
     ]
    }
   ],
   "source": [
    "model = models.shufflenet_v2_x0_5(num_classes=9)\n",
    "pretrained_model = models.shufflenet_v2_x0_5(pretrained=True)\n",
    "\n",
    "copy_weight(model, pretrained_model)\n",
    "append_model_table(model, 'shufflenet_v2_x0_5')"
   ]
  },
  {
   "cell_type": "code",
   "execution_count": 6,
   "id": "f0aa5dba-eb6d-4cf2-8cdd-87892732e849",
   "metadata": {},
   "outputs": [
    {
     "name": "stdout",
     "output_type": "stream",
     "text": [
      "SqueezeNet1_1 5906 3054098.0\n"
     ]
    }
   ],
   "source": [
    "model = models.squeezenet1_1(num_classes=9)\n",
    "pretrained_model = models.squeezenet1_1(pretrained=True, progress=False)\n",
    "\n",
    "copy_weight(model, pretrained_model)\n",
    "append_model_table(model, 'SqueezeNet1_1')"
   ]
  },
  {
   "cell_type": "code",
   "execution_count": 7,
   "id": "41920524-9d09-4284-9913-44c15e086666",
   "metadata": {},
   "outputs": [
    {
     "name": "stdout",
     "output_type": "stream",
     "text": [
      "mobilenet_v3_small 26010 2230929.0\n"
     ]
    }
   ],
   "source": [
    "model = models.mobilenet_v3_small(num_classes=9)\n",
    "pretrained_model = models.mobilenet_v3_small(pretrained=True, progress=False)\n",
    "\n",
    "copy_weight(model, pretrained_model)\n",
    "append_model_table(model, 'mobilenet_v3_small')"
   ]
  },
  {
   "cell_type": "code",
   "execution_count": 8,
   "id": "3dd7f0e8-f7d2-4753-b4e2-9e2a52ea5bce",
   "metadata": {},
   "outputs": [
    {
     "name": "stdout",
     "output_type": "stream",
     "text": [
      "mnasnet 30954 2242281.0\n"
     ]
    }
   ],
   "source": [
    "model = models.mnasnet0_5(num_classes=9)\n",
    "pretrained_model = models.mnasnet0_5(pretrained=True, progress=False)\n",
    "\n",
    "copy_weight(model, pretrained_model)\n",
    "append_model_table(model, 'mnasnet')"
   ]
  },
  {
   "cell_type": "code",
   "execution_count": 35,
   "id": "9deb070e-8eea-42f7-baf8-1fc175bae8da",
   "metadata": {},
   "outputs": [
    {
     "data": {
      "text/html": [
       "<div>\n",
       "<style scoped>\n",
       "    .dataframe tbody tr th:only-of-type {\n",
       "        vertical-align: middle;\n",
       "    }\n",
       "\n",
       "    .dataframe tbody tr th {\n",
       "        vertical-align: top;\n",
       "    }\n",
       "\n",
       "    .dataframe thead th {\n",
       "        text-align: right;\n",
       "    }\n",
       "</style>\n",
       "<table border=\"1\" class=\"dataframe\">\n",
       "  <thead>\n",
       "    <tr style=\"text-align: right;\">\n",
       "      <th></th>\n",
       "      <th>model_name</th>\n",
       "      <th>param_num</th>\n",
       "      <th>MACs</th>\n",
       "    </tr>\n",
       "  </thead>\n",
       "  <tbody>\n",
       "    <tr>\n",
       "      <th>0</th>\n",
       "      <td>shufflenet_v2_x0_5</td>\n",
       "      <td>11946</td>\n",
       "      <td>862313.0</td>\n",
       "    </tr>\n",
       "    <tr>\n",
       "      <th>1</th>\n",
       "      <td>SqueezeNet1_1</td>\n",
       "      <td>5906</td>\n",
       "      <td>3054098.0</td>\n",
       "    </tr>\n",
       "    <tr>\n",
       "      <th>2</th>\n",
       "      <td>mobilenet_v3_small</td>\n",
       "      <td>26010</td>\n",
       "      <td>2230929.0</td>\n",
       "    </tr>\n",
       "    <tr>\n",
       "      <th>3</th>\n",
       "      <td>mnasnet</td>\n",
       "      <td>30954</td>\n",
       "      <td>2242281.0</td>\n",
       "    </tr>\n",
       "  </tbody>\n",
       "</table>\n",
       "</div>"
      ],
      "text/plain": [
       "           model_name  param_num       MACs\n",
       "0  shufflenet_v2_x0_5      11946   862313.0\n",
       "1       SqueezeNet1_1       5906  3054098.0\n",
       "2  mobilenet_v3_small      26010  2230929.0\n",
       "3             mnasnet      30954  2242281.0"
      ]
     },
     "execution_count": 35,
     "metadata": {},
     "output_type": "execute_result"
    }
   ],
   "source": [
    "pd.DataFrame(model_table, columns=['model_name', 'param_num', 'MACs'])"
   ]
  },
  {
   "cell_type": "code",
   "execution_count": 16,
   "id": "96649170-96fe-493a-b738-81d8caf3392b",
   "metadata": {},
   "outputs": [
    {
     "data": {
      "text/plain": [
       "672233.0"
      ]
     },
     "execution_count": 16,
     "metadata": {},
     "output_type": "execute_result"
    }
   ],
   "source": [
    "model = models.ShuffleNetV2([4, 8, 4], [24, 48, 96, 128, 512], num_classes=9)\n",
    "calc_macs(model, (3, 32, 32))"
   ]
  }
 ],
 "metadata": {
  "kernelspec": {
   "display_name": "Python 3",
   "language": "python",
   "name": "python3"
  },
  "language_info": {
   "codemirror_mode": {
    "name": "ipython",
    "version": 3
   },
   "file_extension": ".py",
   "mimetype": "text/x-python",
   "name": "python",
   "nbconvert_exporter": "python",
   "pygments_lexer": "ipython3",
   "version": "3.8.5"
  }
 },
 "nbformat": 4,
 "nbformat_minor": 5
}
